{
 "cells": [
  {
   "cell_type": "markdown",
   "metadata": {},
   "source": [
    "### To_Do's:\n",
    "\n",
    "[ ] Write the ways we can deal with the scenario where a gene has value outside the wanted range.\n",
    "\n",
    "[ ] Write s little more about the genetic algorithms in the beginning, as well as a little overview about the project.\n",
    "\n",
    "[ ] Re-read the texts and make sure they are in a nice order"
   ]
  },
  {
   "cell_type": "markdown",
   "metadata": {},
   "source": [
    "## Computational Intelligence: Genetic Algorithms Project. \n",
    "\n",
    "In a broad sense, Genetic Algorithms can be defined as population based models that\n",
    "use selection and recombination operators to generate new sample points ina search space. The idea of Genetic Algorithms are heavily infuenced by the Theory of Evolution, by encoding potential solutions to a specific problem into simple chromosome-like data structure and apply recombination operators to these structures, as to preserve critical information.  \n"
   ]
  },
  {
   "cell_type": "code",
   "execution_count": 8,
   "metadata": {},
   "outputs": [
    {
     "data": {
      "text/plain": [
       "<module 'utils' from 'c:\\\\Users\\\\kwnka\\\\vs-code projects\\\\CompIntel\\\\project_B\\\\utils.py'>"
      ]
     },
     "execution_count": 8,
     "metadata": {},
     "output_type": "execute_result"
    }
   ],
   "source": [
    "import pandas as pd\n",
    "import numpy as np \n",
    "from difflib import get_close_matches\n",
    "from sklearn.feature_extraction.text import TfidfVectorizer\n",
    "from sklearn.metrics.pairwise import cosine_similarity\n",
    "import utils as ul\n",
    "import importlib\n",
    "importlib.reload(ul)"
   ]
  },
  {
   "cell_type": "markdown",
   "metadata": {},
   "source": [
    "### Preprocessing\n",
    "\n",
    "1. **Loading**: To start off the dataset is loaded into a Pandas dataframe and some information is printed using the `print_dataframe_info()` function, to help understand the data better. Then we filter the dataframe, keeping the data having `region_main_id == 1693`. This means that only the inscriptions of a particular region are kept, which have a generally higher chance to have similar content.\n",
    "2. **BoW with Tf-Idf**: In order to implement the Bag of Words model using tf-idf vectorization, the following steps are performed:\n",
    "    * An object of the `TfidfVectorizer()` Class is instantiated.\n",
    "    * The method `fit_transform()` of the Class is used in order for the vocabulary to be constructed and for the inscriptions to be transformed into the aprropriate form.\n",
    "    * The **output** of the vectorizer is a **sparse matrix**, where the rows are the different inscriptions and columns the different features of the vocabulary. A value in a particular position of the matrix signifies the existance of the particular feature in that inscription.\n",
    "3. **Target Inscription**: Since the damaged inscription that needs to be filled is not part of the dataset, the word *αλεξανδρε* does not exist in the vocabulary built using the BoW, so it is replaced by the closest related word in the dictionary, the word *ανδρες*, which is found using the `get_close_matches(missing_word, vocab, n=1)` command from the `difflib` library, where:\n",
    "    * **missing word**: Is the word that is missing, so the word *αλεξανδρε*.\n",
    "    * **vocab**: Is the vocabulary obtained from the `print_vectorizer_info()` function.\n",
    "    * **n=1**: Signifies that the closest possible word to the missing word should be returned.\n",
    "    \n",
    "So the new target inscription after this procedure is [...]*ανδρες ουδις*[...], which is then tranformed into a tf-idf vector using the same vectorizer as before.\n",
    "\n",
    "The three seperate steps of the preprocessing can be seen below:"
   ]
  },
  {
   "cell_type": "code",
   "execution_count": 9,
   "metadata": {},
   "outputs": [
    {
     "name": "stdout",
     "output_type": "stream",
     "text": [
      "\n",
      "Dataset Information:\n",
      "<class 'pandas.core.frame.DataFrame'>\n",
      "RangeIndex: 2802 entries, 0 to 2801\n",
      "Data columns (total 11 columns):\n",
      " #   Column          Non-Null Count  Dtype  \n",
      "---  ------          --------------  -----  \n",
      " 0   id              2802 non-null   int64  \n",
      " 1   text            2802 non-null   object \n",
      " 2   metadata        2802 non-null   object \n",
      " 3   region_main_id  2802 non-null   int64  \n",
      " 4   region_main     2802 non-null   object \n",
      " 5   region_sub_id   2802 non-null   int64  \n",
      " 6   region_sub      2802 non-null   object \n",
      " 7   date_str        2802 non-null   object \n",
      " 8   date_min        2802 non-null   float64\n",
      " 9   date_max        2802 non-null   float64\n",
      " 10  date_circa      2802 non-null   float64\n",
      "dtypes: float64(3), int64(3), object(5)\n",
      "memory usage: 240.9+ KB\n",
      "\n",
      "Number of NULL values per column:\n",
      "id                0\n",
      "text              0\n",
      "metadata          0\n",
      "region_main_id    0\n",
      "region_main       0\n",
      "region_sub_id     0\n",
      "region_sub        0\n",
      "date_str          0\n",
      "date_min          0\n",
      "date_max          0\n",
      "date_circa        0\n",
      "dtype: int64\n",
      "\n",
      "Number of unique values per column:\n",
      "id                2802\n",
      "text              2795\n",
      "metadata          2530\n",
      "region_main_id      14\n",
      "region_main         14\n",
      "region_sub_id       73\n",
      "region_sub          71\n",
      "date_str          1384\n",
      "date_min           505\n",
      "date_max           509\n",
      "date_circa           2\n",
      "dtype: int64\n"
     ]
    }
   ],
   "source": [
    "# Load dataset into a dataframe and print information about it\n",
    "df = pd.read_csv('iphi2802.csv', delimiter='\\t')\n",
    "\n",
    "ul.print_dataframe_info(df)\n",
    "\n",
    "df_filtered= df.query(\"region_main_id == 1693\")"
   ]
  },
  {
   "cell_type": "code",
   "execution_count": 10,
   "metadata": {},
   "outputs": [
    {
     "name": "stdout",
     "output_type": "stream",
     "text": [
      "The dictionary of the dataset: ['αβ' 'αββεος' 'αβδαασθωρης' ... 'ϙε' 'ϙτ' 'ϛπ']\n",
      "The shape of the output matrix: (127, 1678)\n",
      "The matrix: [[0. 0. 0. ... 0. 0. 0.]\n",
      " [0. 0. 0. ... 0. 0. 0.]\n",
      " [0. 0. 0. ... 0. 0. 0.]\n",
      " ...\n",
      " [0. 0. 0. ... 0. 0. 0.]\n",
      " [0. 0. 0. ... 0. 0. 0.]\n",
      " [0. 0. 0. ... 0. 0. 0.]]\n",
      "The unique values of the output matrix: [0.         0.01130775 0.01235026 0.01388891 0.01461941 0.01556119\n",
      " 0.01688855 0.02016224 0.02100191 0.0212497  0.02392936 0.02777781\n",
      " 0.02923882 0.03060018 0.03112238 0.0330687  0.03345886 0.03377711\n",
      " 0.03527057 0.03589404 0.03631753 0.03748793 0.03836221 0.03881482\n",
      " 0.03987613 0.04166672 0.04215832 0.04385823 0.04437568 0.04668357\n",
      " 0.04723436 0.04911755 0.04940106 0.05066566 0.05099229 0.05126343\n",
      " 0.05146199 0.05316818 0.05515732 0.05555563 0.05774379 0.06008614\n",
      " 0.06048671 0.06175797 0.06248299 0.06297707 0.06493779 0.06499394\n",
      " 0.06604416 0.06754861 0.06755421 0.06778379 0.06920439 0.06933822\n",
      " 0.06944454 0.06971857 0.07178808 0.07198476 0.07221305 0.07309704\n",
      " 0.07343037 0.07420825 0.07448678 0.07480026 0.07495926 0.07496932\n",
      " 0.07733836 0.07771669 0.07786444 0.0793369  0.07942813 0.07995905\n",
      " 0.08018783 0.08044854 0.08069321 0.08144535 0.08178048 0.08236507\n",
      " 0.08304115 0.08310569 0.08333344 0.08355002 0.08394604 0.08444277\n",
      " 0.08482361 0.08585542 0.08665136 0.08684832 0.08715014 0.08771645\n",
      " 0.08937352 0.0897184  0.09014775 0.09046198 0.09225801 0.09258944\n",
      " 0.0929581  0.09314282 0.09325903 0.09338673 0.0940119  0.09426851\n",
      " 0.09437484 0.09446872 0.09448282 0.0960209  0.09615344 0.09636501\n",
      " 0.09681859 0.09719813 0.09744672 0.09768829 0.09799636 0.09829851\n",
      " 0.09832035 0.09880211 0.09916096 0.09977728 0.10116612 0.10133132\n",
      " 0.10176972 0.10233586 0.10252687 0.10257203 0.10369142 0.10463088\n",
      " 0.10471319 0.10472669 0.10591351 0.10633635 0.1064537  0.10648705\n",
      " 0.10763312 0.10776866 0.10801903 0.10803909 0.10817685 0.10830037\n",
      " 0.1091076  0.10911808 0.1091797  0.10942931 0.11016822 0.11024\n",
      " 0.11080846 0.11083427 0.11093137 0.11111126 0.1111991  0.11120542\n",
      " 0.11235433 0.11247711 0.11259809 0.11334693 0.11355586 0.11494536\n",
      " 0.1149776  0.11511008 0.11518486 0.11575411 0.11585456 0.11630604\n",
      " 0.11708433 0.11717047 0.11776625 0.11841063 0.1184927  0.11916676\n",
      " 0.11957397 0.12005422 0.12022077 0.12023438 0.1217165  0.12241432\n",
      " 0.12260505 0.12263508 0.12293209 0.12301539 0.123038   0.12357302\n",
      " 0.12391279 0.12430356 0.12448329 0.12448951 0.12462689 0.12478516\n",
      " 0.12540988 0.12599721 0.12613714 0.1261474  0.1261982  0.1262191\n",
      " 0.12647128 0.12770829 0.1279528  0.12826665 0.12880287 0.1307521\n",
      " 0.13151482 0.13306323 0.13322699 0.13409167 0.13460342 0.13484\n",
      " 0.13496583 0.13525752 0.13574047 0.13590249 0.13677303 0.13721258\n",
      " 0.13762324 0.13861422 0.1386985  0.13874283 0.13875071 0.13895201\n",
      " 0.13996811 0.13998698 0.14080872 0.14098572 0.14113566 0.14128637\n",
      " 0.14132228 0.14135241 0.14146137 0.14158414 0.14166001 0.14166533\n",
      " 0.14167256 0.14179552 0.14201114 0.14211208 0.14248215 0.1442454\n",
      " 0.14427409 0.14455144 0.14471896 0.14486304 0.14489979 0.1454172\n",
      " 0.14634058 0.14668335 0.14763344 0.14789906 0.14804238 0.14810258\n",
      " 0.1481793  0.14828288 0.14859008 0.14859853 0.14863213 0.14876341\n",
      " 0.15013376 0.15014874 0.15023592 0.1503699  0.15079139 0.15114462\n",
      " 0.15126692 0.15178039 0.15192783 0.15192977 0.15203391 0.15206287\n",
      " 0.15209573 0.15243853 0.1528912  0.15347788 0.1537903  0.15422494\n",
      " 0.15467023 0.15480157 0.15481096 0.15527583 0.15531141 0.1553334\n",
      " 0.15554728 0.15555656 0.15561189 0.15612198 0.15652339 0.15663588\n",
      " 0.15918683 0.15975659 0.15976344 0.16017779 0.16022652 0.1607126\n",
      " 0.16129457 0.1617657  0.16248936 0.16295638 0.16296097 0.16300747\n",
      " 0.16350333 0.16365385 0.1640808  0.16416995 0.16486684 0.16558077\n",
      " 0.16648313 0.16652689 0.16682423 0.16789207 0.16850482 0.16863266\n",
      " 0.16895617 0.16968787 0.17002487 0.17005538 0.17034983 0.17074087\n",
      " 0.17130237 0.17147334 0.17192931 0.1719608  0.17237583 0.17280975\n",
      " 0.1729077  0.17345311 0.17403619 0.17570268 0.17572641 0.17680785\n",
      " 0.17682928 0.17754267 0.17764675 0.17776371 0.17784259 0.17874705\n",
      " 0.17899194 0.17917845 0.17918863 0.17925954 0.17938768 0.17943679\n",
      " 0.17959251 0.18107745 0.18126904 0.1816559  0.18178367 0.18256565\n",
      " 0.18328586 0.18372476 0.18454581 0.18456105 0.18470768 0.18472329\n",
      " 0.18501216 0.18524156 0.1855676  0.18645243 0.18667993 0.18722424\n",
      " 0.18761175 0.1882206  0.18853703 0.18857876 0.18888142 0.18893743\n",
      " 0.18893921 0.18916928 0.18929918 0.1895329  0.19049656 0.19076354\n",
      " 0.19100319 0.19133224 0.19151609 0.19223027 0.19274829 0.19283615\n",
      " 0.19295251 0.1942599  0.19461299 0.19506257 0.19562675 0.196006\n",
      " 0.19642296 0.19642493 0.19688718 0.19699638 0.19707149 0.19708269\n",
      " 0.19715124 0.19728976 0.19911884 0.19957996 0.19966878 0.19997849\n",
      " 0.20007275 0.20019219 0.20079695 0.20103091 0.20136271 0.20158908\n",
      " 0.20334694 0.20344684 0.20385603 0.20427576 0.20461937 0.20505374\n",
      " 0.20521929 0.20528243 0.20532209 0.20544635 0.20661925 0.20674586\n",
      " 0.20893562 0.2090786  0.20936432 0.20938136 0.20940496 0.20976681\n",
      " 0.20977873 0.20989408 0.21007707 0.21020941 0.21040466 0.21090621\n",
      " 0.21190098 0.21194604 0.21218044 0.21247799 0.21338248 0.21373226\n",
      " 0.21380755 0.21457542 0.21515697 0.21559657 0.21595881 0.21605442\n",
      " 0.21641292 0.21716311 0.21786291 0.21829965 0.21835941 0.21854891\n",
      " 0.21927524 0.22095855 0.22139317 0.22141614 0.22147112 0.22199001\n",
      " 0.22210338 0.22246774 0.22305172 0.22361021 0.22365349 0.22448971\n",
      " 0.22691294 0.22711173 0.2273819  0.22748413 0.22765985 0.22767279\n",
      " 0.22790536 0.22815293 0.22851783 0.23002498 0.23075717 0.23196204\n",
      " 0.23196355 0.23255653 0.23275036 0.23287864 0.23306175 0.23331671\n",
      " 0.23401022 0.23423642 0.2342926  0.23448379 0.23488447 0.23550823\n",
      " 0.23570226 0.23595519 0.23619325 0.23692054 0.2369854  0.23719106\n",
      " 0.23806121 0.2389513  0.23949542 0.24050686 0.2412592  0.24176048\n",
      " 0.24210893 0.24268409 0.24465921 0.24521011 0.24562251 0.24595024\n",
      " 0.24603079 0.2466273  0.24801034 0.24807556 0.24884555 0.24925378\n",
      " 0.24966163 0.24979443 0.25209265 0.25221083 0.25239353 0.2532759\n",
      " 0.25440958 0.25468263 0.25506029 0.25559701 0.25562684 0.25584665\n",
      " 0.25609618 0.25752533 0.25760574 0.25836776 0.25853679 0.258757\n",
      " 0.25933378 0.25998448 0.26040581 0.26220603 0.26284906 0.26306096\n",
      " 0.26341181 0.26423232 0.26535173 0.26543754 0.26583354 0.26614402\n",
      " 0.26626624 0.26657403 0.26785886 0.26828187 0.26923633 0.26998736\n",
      " 0.27007199 0.27051505 0.27066517 0.27210559 0.27282311 0.27467458\n",
      " 0.27613654 0.27670455 0.27685377 0.27831431 0.27972192 0.28036842\n",
      " 0.28038076 0.28040358 0.28052986 0.28134667 0.28244565 0.28245571\n",
      " 0.28314831 0.28403203 0.28422417 0.28509996 0.28511429 0.28672967\n",
      " 0.28747381 0.2913358  0.2921867  0.29524104 0.29531612 0.29784099\n",
      " 0.29876138 0.29913951 0.2994535  0.30030737 0.30158278 0.30225986\n",
      " 0.3025938  0.30358211 0.3036743  0.30385566 0.30429715 0.30432192\n",
      " 0.30502419 0.30645791 0.30653818 0.30673709 0.30858812 0.30943445\n",
      " 0.3097464  0.31142849 0.3118631  0.31205336 0.31340827 0.31488539\n",
      " 0.31508509 0.31838766 0.32012295 0.32117015 0.32323696 0.32324674\n",
      " 0.32334608 0.32344342 0.32357307 0.32472428 0.32730769 0.32849067\n",
      " 0.32937664 0.330675   0.33190868 0.33201127 0.33209485 0.3326994\n",
      " 0.3353231  0.33685767 0.33707897 0.33847269 0.33895884 0.34004974\n",
      " 0.34011834 0.34067817 0.34107105 0.34127507 0.34174502 0.34185989\n",
      " 0.34538031 0.3454413  0.34742934 0.34775761 0.34892576 0.34908059\n",
      " 0.34956076 0.35080897 0.35114392 0.35157889 0.35185493 0.35190208\n",
      " 0.35231632 0.35262238 0.35544791 0.35574105 0.35747236 0.35888148\n",
      " 0.36042244 0.36107856 0.36152565 0.3626246  0.36453641 0.36734431\n",
      " 0.3687859  0.36988262 0.37016011 0.37016431 0.37102043 0.37467564\n",
      " 0.37512621 0.37796447 0.37868903 0.3802976  0.38109639 0.38339374\n",
      " 0.38404415 0.38418875 0.38705766 0.38752026 0.3885198  0.39267343\n",
      " 0.39355637 0.39553932 0.39852395 0.40173465 0.40292932 0.40459079\n",
      " 0.40788165 0.40824829 0.40923873 0.4108927  0.41095723 0.41248426\n",
      " 0.41349172 0.41621737 0.41816921 0.41904265 0.42184559 0.4237032\n",
      " 0.42616836 0.42729378 0.4281777  0.43302517 0.43729906 0.43823268\n",
      " 0.43845342 0.44273045 0.44510762 0.4472136  0.44766904 0.44769718\n",
      " 0.45010596 0.45044621 0.46243209 0.46470113 0.46965304 0.46996208\n",
      " 0.47140452 0.47438212 0.47553496 0.47561379 0.48287495 0.48307516\n",
      " 0.48886914 0.49124502 0.49184709 0.5        0.50160177 0.5026975\n",
      " 0.50635501 0.50971431 0.51099659 0.51127493 0.51137289 0.52557926\n",
      " 0.53087509 0.53314807 0.5348049  0.54026458 0.54438825 0.54462116\n",
      " 0.54589001 0.55635832 0.55959243 0.56149422 0.5624394  0.57155789\n",
      " 0.5736021  0.57581253 0.57735027 0.59022348 0.59245426 0.61126722\n",
      " 0.6178144  0.64202931 0.64973817 0.6626335  0.67761574 0.70710678\n",
      " 0.71768809 0.73541615 0.80894388 0.81264593 0.83094249 1.        ]\n"
     ]
    }
   ],
   "source": [
    "# Initalize the tf-idf Vectorizer \n",
    "vectorizer = TfidfVectorizer()\n",
    "index_matrix = vectorizer.fit_transform(df_filtered['text'].to_list()).toarray()\n",
    "\n",
    "vocab_dict = ul.print_vectorizer_info(vectorizer, index_matrix, True)"
   ]
  },
  {
   "cell_type": "code",
   "execution_count": 11,
   "metadata": {},
   "outputs": [
    {
     "name": "stdout",
     "output_type": "stream",
     "text": [
      "The word closest to the missing word: ανδρες\n",
      "The new inscription: ανδρες ουδις\n"
     ]
    }
   ],
   "source": [
    "# Find the word closest to the missing word 'αλεξανδρε' and turn the incomplete inscription into a tf-idf vector\n",
    "missing_word = 'αλεξανδρε'\n",
    "replaced_word = get_close_matches(missing_word, vocab_dict.values(), n=1)\n",
    "print(f\"The word closest to the missing word: {replaced_word[0]}\")\n",
    "replaced_inscription = f'{replaced_word[0]} ουδις'\n",
    "print(f\"The new inscription: {replaced_inscription}\")\n",
    "incomplete_vector = vectorizer.transform([replaced_inscription]).toarray()"
   ]
  },
  {
   "cell_type": "markdown",
   "metadata": {},
   "source": [
    "### Encoding of chromosomes & Fitness Function\n",
    "\n",
    "* **Encoding**: Firstly, the chromosomes of the population, consist of two different genes, one for each word that is missing. For this project the different genes, hence the chromosomes of the population are encoded using integer value encoding. Since the dictionary of this project consists of 1678 different features, the different values of a gene will be 0-1677. The final chromosome is a tuple consisting of two numbers, which are the indexes of the words in the dictionary. \n",
    "Using this particular encoding ensures that no values outside of the range 0-1677 will occur, hence making the fitness function simpler and more cost-effective, since it has less comparisons to perform. Even if values past 1677 occur, the chromosomes carrying these values can be treated with one of the following ways:\n",
    "    1. first\n",
    "    2. second\n",
    "    3. third\n",
    "\n",
    "* **Find_k_nearest Function**: This is a custom function that was built for this project and it's goal is to find the k nearest vectors to the target vector, using the cosine similarity metric. In this project though, vectors are of a high dimensionality and really sparse, so the cosine similarity between them is expected to generally be close to or zero.\n",
    "\n",
    "* **Fitness Function**: The custom fitness function completes the inscription, by concatenating the two corresponding words from the two genes of the chromosome. It then transforms the filled-in target inscription to a tf-idf vector using the same vectorizer as before and compares it to the top-k inscriptions found earlier. The mean of those values is the fitness value of the particular chromosome.\n"
   ]
  },
  {
   "cell_type": "code",
   "execution_count": 12,
   "metadata": {},
   "outputs": [],
   "source": [
    "# Find the top k closest neighbours to the incomplete inscription.\n",
    "top_indices, top_values = ul.find_k_nearest(5, index_matrix, incomplete_vector)\n",
    "\n",
    "# Fitness function to use with GA\n",
    "def fitness_func(ga_instance, solution, solution_idx):\n",
    "    left_word_idx, right_word_idx = solution\n",
    "    \n",
    "    left_word = vocab_dict[left_word_idx]\n",
    "    right_word = vocab_dict[right_word_idx]\n",
    "    replaced_inscription = f'{left_word} αλεξανδρε ουδις {right_word}'\n",
    "    \n",
    "    replaced_vector = vectorizer.transform([replaced_inscription]).toarray().reshape(1, -1)\n",
    "    fit_similarities = []\n",
    "    \n",
    "    for index in top_indices:\n",
    "        inscription = index_matrix[index].reshape(1, -1)\n",
    "        similarity = cosine_similarity(inscription, replaced_vector)[0][0]\n",
    "        fit_similarities.append(similarity)\n",
    "    fitness_value = np.mean(fit_similarities)\n",
    "    \n",
    "    mean_value = np.mean(top_values)\n",
    "    \n",
    "    # Punishing chromosomes with suboptimal fitness values, to discourage them from continuing(dont know if it is correct)\n",
    "    if fitness_value < mean_value:\n",
    "        fitness_value = fitness_value - (0.5 * fitness_value)\n",
    "    \n",
    "    return fitness_value\n",
    "    "
   ]
  },
  {
   "cell_type": "markdown",
   "metadata": {},
   "source": [
    "### Early Stopping Callback Function\n",
    "\n",
    "This custom function stops the genetic algorithm prematurely if one or two of the conditions, which are described below, is satisfied:\n",
    "\n",
    "1. The best chromosome of each generation stops evolving for a specific number of generations.\n",
    "2. The best chromosome of each generation has an evolving rate less than 1%, or\n",
    "3. The predifined number of generations has been reached.\n",
    "\n"
   ]
  },
  {
   "cell_type": "code",
   "execution_count": null,
   "metadata": {},
   "outputs": [],
   "source": [
    "best_fitness_values = []\n",
    "num_of_insignificant_better = []\n",
    "num_of_insignificant_better.append(0)\n",
    "\n",
    "#Stop early when GA converges\n",
    "def early_stopping_callback(ga_instance):\n",
    "    best_fitness_values.append(ga_instance.best_solution()[1])\n",
    "        \n",
    "    better_ratio = (best_fitness_values[len(best_fitness_values)-1] / best_fitness_values[len(best_fitness_values)-2]) - 1\n",
    "    if better_ratio < 0.01 and len(best_fitness_values) > 1:\n",
    "        num_of_insignificant_better.append(num_of_insignificant_better[len(num_of_insignificant_better)-1] + 1)\n",
    "    else:\n",
    "        num_of_insignificant_better.append(0)\n",
    "    \n",
    "    if num_of_insignificant_better[len(num_of_insignificant_better)-1] == 100:\n",
    "        return \"stop\""
   ]
  },
  {
   "cell_type": "code",
   "execution_count": null,
   "metadata": {},
   "outputs": [],
   "source": [
    "best_solution_per_instance = []\n",
    "\n",
    "initial_populations = ul.create_initial_populations(10,20)\n",
    "\n",
    "ga_instances = ul.set_ga_instances(initial_populations, 1000, 0.6, 0.01, fitness_func, early_stopping_callback)"
   ]
  },
  {
   "cell_type": "markdown",
   "metadata": {},
   "source": [
    "make the loop accordingly and change the title to see the probabilities for each scenario above."
   ]
  }
 ],
 "metadata": {
  "kernelspec": {
   "display_name": "computIntel",
   "language": "python",
   "name": "python3"
  },
  "language_info": {
   "codemirror_mode": {
    "name": "ipython",
    "version": 3
   },
   "file_extension": ".py",
   "mimetype": "text/x-python",
   "name": "python",
   "nbconvert_exporter": "python",
   "pygments_lexer": "ipython3",
   "version": "3.10.13"
  }
 },
 "nbformat": 4,
 "nbformat_minor": 2
}
