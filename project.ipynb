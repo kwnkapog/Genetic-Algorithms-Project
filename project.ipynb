{
 "cells": [
  {
   "cell_type": "markdown",
   "metadata": {},
   "source": [
    "## Computational Intelligence: Genetic Algorithms Project. \n",
    "\n",
    "In a broad sense, Genetic Algorithms can be defined as population based models that\n",
    "use selection and recombination operators to generate new sample points ina search space. The idea of Genetic Algorithms are heavily infuenced by the Theory of Evolution, by encoding potential solutions to a specific problem into simple chromosome-like data structure and apply recombination operators to these structures, as to preserve critical information.  \n"
   ]
  },
  {
   "cell_type": "code",
   "execution_count": 11,
   "metadata": {},
   "outputs": [
    {
     "data": {
      "text/plain": [
       "<module 'utils' from 'c:\\\\Users\\\\kwnka\\\\vs-code projects\\\\CompIntel\\\\project_B\\\\utils.py'>"
      ]
     },
     "execution_count": 11,
     "metadata": {},
     "output_type": "execute_result"
    }
   ],
   "source": [
    "import pandas as pd\n",
    "import numpy as np \n",
    "from IPython.display import display\n",
    "from difflib import get_close_matches\n",
    "from sklearn.feature_extraction.text import TfidfVectorizer\n",
    "import utils as ul\n",
    "import importlib\n",
    "importlib.reload(ul)"
   ]
  },
  {
   "cell_type": "markdown",
   "metadata": {},
   "source": [
    "### Preprocessing\n",
    "\n",
    "1. **Loading**: To start off the dataset is loaded into a Pandas dataframe and some information is printedusing the `print_dataframe_info()` function, to help understand the data better. Then we filter the dataframe, keeping the data having `region_main_id == 1693`. This means that only the inscriptions of a particular region are kept, which have a generally higher chance to have similar content.\n",
    "2. **BoW with Tf-Idf**: In order to implement the Bag of Words model using tf-idf vectorization, the following steps are performed:\n",
    "    * An object of the `TfidfVectorizer()` Class is instantiated.\n",
    "    * The method `fit_transform()` of the Class is used in order for the vocabulary to be constructed and for the inscriptions to be transformed into the aprropriate form.\n",
    "    * The **output** of the vectorizer is a **sparse matrix**, where the rows are the different inscriptions and columns the different features of the vocabulary. A value in a particular position of the matrix signifies the existance of the particular feature in that inscription.\n",
    "3. **Target Inscription**: Since the damaged inscription that needs to be filled, is not part of the dataset, the word *αλεξανδρε* does not exist in the vocabulary built during the BoW, so it is replaced, by the closest related word in hte dictionary, the word *ανδρες*, which is found using the `get_close_matches(missing_word, vocab, n=1)` command from the `difflib` library, where:\n",
    "    * **missing word**: Is the word that is missing, so the word *αλεξανδρε*.\n",
    "    * **vocab**: Is the vocabulary obtained from the `print_vectorizer_info()` function.\n",
    "    * **n=1**: Signifies that the closest possible word to the missing word should be returned.\n",
    "    \n",
    "So the new target inscription after this procedure is [...]*ανδρες ουδις*[...], which is then tranformed into a tf-idf vector using the same vectorizer as before."
   ]
  },
  {
   "cell_type": "code",
   "execution_count": 12,
   "metadata": {},
   "outputs": [
    {
     "name": "stdout",
     "output_type": "stream",
     "text": [
      "\n",
      "Dataset Information:\n",
      "<class 'pandas.core.frame.DataFrame'>\n",
      "RangeIndex: 2802 entries, 0 to 2801\n",
      "Data columns (total 11 columns):\n",
      " #   Column          Non-Null Count  Dtype  \n",
      "---  ------          --------------  -----  \n",
      " 0   id              2802 non-null   int64  \n",
      " 1   text            2802 non-null   object \n",
      " 2   metadata        2802 non-null   object \n",
      " 3   region_main_id  2802 non-null   int64  \n",
      " 4   region_main     2802 non-null   object \n",
      " 5   region_sub_id   2802 non-null   int64  \n",
      " 6   region_sub      2802 non-null   object \n",
      " 7   date_str        2802 non-null   object \n",
      " 8   date_min        2802 non-null   float64\n",
      " 9   date_max        2802 non-null   float64\n",
      " 10  date_circa      2802 non-null   float64\n",
      "dtypes: float64(3), int64(3), object(5)\n",
      "memory usage: 240.9+ KB\n",
      "\n",
      "Number of NULL values per column:\n",
      "id                0\n",
      "text              0\n",
      "metadata          0\n",
      "region_main_id    0\n",
      "region_main       0\n",
      "region_sub_id     0\n",
      "region_sub        0\n",
      "date_str          0\n",
      "date_min          0\n",
      "date_max          0\n",
      "date_circa        0\n",
      "dtype: int64\n",
      "\n",
      "Number of unique values per column:\n",
      "id                2802\n",
      "text              2795\n",
      "metadata          2530\n",
      "region_main_id      14\n",
      "region_main         14\n",
      "region_sub_id       73\n",
      "region_sub          71\n",
      "date_str          1384\n",
      "date_min           505\n",
      "date_max           509\n",
      "date_circa           2\n",
      "dtype: int64\n"
     ]
    }
   ],
   "source": [
    "# Load dataset into a dataframe and print information about it\n",
    "df = pd.read_csv('iphi2802.csv', delimiter='\\t')\n",
    "\n",
    "ul.print_dataframe_info(df)"
   ]
  },
  {
   "cell_type": "code",
   "execution_count": 13,
   "metadata": {},
   "outputs": [
    {
     "data": {
      "text/plain": [
       "\"The dictionary of the dataset: ['αβ' 'αββεος' 'αβδαασθωρης' ... 'ϙε' 'ϙτ' 'ϛπ']\""
      ]
     },
     "metadata": {},
     "output_type": "display_data"
    },
    {
     "data": {
      "text/plain": [
       "'The shape of the output matrix: (127, 1678)'"
      ]
     },
     "metadata": {},
     "output_type": "display_data"
    },
    {
     "data": {
      "text/plain": [
       "'The matrix: [[0. 0. 0. ... 0. 0. 0.]\\n [0. 0. 0. ... 0. 0. 0.]\\n [0. 0. 0. ... 0. 0. 0.]\\n ...\\n [0. 0. 0. ... 0. 0. 0.]\\n [0. 0. 0. ... 0. 0. 0.]\\n [0. 0. 0. ... 0. 0. 0.]]'"
      ]
     },
     "metadata": {},
     "output_type": "display_data"
    },
    {
     "data": {
      "text/plain": [
       "\"The unique values of the output matrix: [<127x1678 sparse matrix of type '<class 'numpy.float64'>'\\n \\twith 2342 stored elements in Compressed Sparse Row format>]\""
      ]
     },
     "metadata": {},
     "output_type": "display_data"
    }
   ],
   "source": [
    "# Keep rows of the same region as the target inscription.  \n",
    "df_filtered= df.query(\"region_main_id == 1693\")\n",
    "\n",
    "# Initalize the tf-idf Vectorizer and transform the text column of the dataframe.\n",
    "vectorizer = TfidfVectorizer()\n",
    "index_matrix = vectorizer.fit_transform(df_filtered['text'].to_list())\n",
    "\n",
    "vocab_dict = ul.print_vectorizer_info(vectorizer, index_matrix, True)"
   ]
  },
  {
   "cell_type": "code",
   "execution_count": 14,
   "metadata": {},
   "outputs": [
    {
     "name": "stdout",
     "output_type": "stream",
     "text": [
      "The word closest to the missing word: ανδρες\n",
      "The new inscription: ανδρες ουδις\n"
     ]
    }
   ],
   "source": [
    "# Find the word closest to the missing word 'αλεξανδρε' and turn the incomplete inscription into a tf-idf vector\n",
    "missing_word = 'αλεξανδρε'\n",
    "replaced_word = get_close_matches(missing_word, vocab_dict.values(), n=1)\n",
    "print(f\"The word closest to the missing word: {replaced_word[0]}\")\n",
    "replaced_inscription = f'{replaced_word[0]} ουδις'\n",
    "print(f\"The new inscription: {replaced_inscription}\")\n",
    "incomplete_vector = vectorizer.transform([replaced_inscription]).toarray()"
   ]
  },
  {
   "cell_type": "markdown",
   "metadata": {},
   "source": [
    "### Encoding\n",
    "\n",
    "Firstly, the chromosomes of the population, consist of two different genes, one for each word that is missing. For this project the different genes, hence the chromosomes of the population are encoded using integer value encoding. Since the dictionary of this project consists of 1678 different features, the different values of a gene will be 0-1677. The final chromosome is a tuple consisting of two numbers, which are the indexes of the words in the dictionary. \n",
    "\n",
    "Using this particular encoding ensures that no values outside of the range 0-1677 will occur, hence making the fitness function simpler and more cost-effective, since it has less comparisons to perform. Even if values past 1677 occur, the chromosomes carrying these values can be treated with one of the following ways:\n"
   ]
  },
  {
   "cell_type": "code",
   "execution_count": 15,
   "metadata": {},
   "outputs": [
    {
     "data": {
      "text/plain": [
       "<function utils.fitness_func(solution, solution_idx)>"
      ]
     },
     "execution_count": 15,
     "metadata": {},
     "output_type": "execute_result"
    }
   ],
   "source": [
    "ul.fitness_func"
   ]
  }
 ],
 "metadata": {
  "kernelspec": {
   "display_name": "computIntel",
   "language": "python",
   "name": "python3"
  },
  "language_info": {
   "codemirror_mode": {
    "name": "ipython",
    "version": 3
   },
   "file_extension": ".py",
   "mimetype": "text/x-python",
   "name": "python",
   "nbconvert_exporter": "python",
   "pygments_lexer": "ipython3",
   "version": "3.10.13"
  }
 },
 "nbformat": 4,
 "nbformat_minor": 2
}
